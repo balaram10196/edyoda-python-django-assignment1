{
 "cells": [
  {
   "cell_type": "code",
   "execution_count": 3,
   "metadata": {},
   "outputs": [
    {
     "name": "stdout",
     "output_type": "stream",
     "text": [
      "[4, 3, 2, 5]\n"
     ]
    }
   ],
   "source": [
    "#Given an array arr[] of integers and an integer K, the task is to find the greatest contiguous sub-array of size K.\n",
    "\n",
    "def greatest_sub_array(arr, k, num): \n",
    "  \n",
    "    sub_array=[] \n",
    "    \n",
    "    for i in range(num-k+1): \n",
    "        temp=[] \n",
    "   \n",
    "        for j in range(i,i+k): \n",
    "            temp.append(arr[j]) \n",
    "  \n",
    "        sub_array.append(temp) \n",
    "  \n",
    "    sub_array=sorted(sub_array) \n",
    "    return sub_array[len(sub_array) - 1] \n",
    "   \n",
    "arr =[ 1, 4, 3, 2, 5 ] \n",
    "k = 4\n",
    "num = len(arr)  \n",
    "greater_sub_array = []\n",
    "greatest_sub_array = greatest_sub_array(arr, k, num) \n",
    "\n",
    "for ans in greatest_sub_array: \n",
    "    greater_sub_array.append(ans)\n",
    "    \n",
    "print(greater_sub_array)\n"
   ]
  },
  {
   "cell_type": "code",
   "execution_count": 15,
   "metadata": {},
   "outputs": [
    {
     "data": {
      "text/plain": [
       "'V'"
      ]
     },
     "execution_count": 15,
     "metadata": {},
     "output_type": "execute_result"
    }
   ],
   "source": [
    "#Write a program to convert Integer to Roman String\n",
    "\n",
    "num_map = [(1000, 'M'), (900, 'CM'), (500, 'D'), (400, 'CD'), (100, 'C'), (90, 'XC'),(50, 'L'), (40, 'XL'), (10, 'X'), (9, 'IX'), (5, 'V'), (4, 'IV'), (1, 'I')]\n",
    "           \n",
    "def int_roman(num):\n",
    "    roman = ''\n",
    "    while num > 0:\n",
    "        for integer, rom in num_map:\n",
    "            while num >= integer:\n",
    "                roman += rom\n",
    "                num -= integer\n",
    "\n",
    "    return roman\n",
    "\n",
    "int_roman(5)\n"
   ]
  },
  {
   "cell_type": "code",
   "execution_count": 5,
   "metadata": {},
   "outputs": [
    {
     "name": "stdout",
     "output_type": "stream",
     "text": [
      "2\n"
     ]
    }
   ],
   "source": [
    "# sum of any two adjacent values is even.\n",
    "\n",
    "def adj_sum_even(n, Numbers):\n",
    "    \n",
    "    list=[]\n",
    "    countOdd = 0\n",
    "    \n",
    "    for i in range(n): \n",
    "           \n",
    "        if (Numbers[i] % 2): \n",
    "            countOdd += 1\n",
    "   \n",
    "    return min(countOdd, n - countOdd) \n",
    "Numbers = [1, 3, 5, 4, 2]\n",
    "n = len(Numbers) \n",
    "print(adj_sum_even(n, Numbers)) "
   ]
  },
  {
   "cell_type": "code",
   "execution_count": 16,
   "metadata": {},
   "outputs": [
    {
     "name": "stdout",
     "output_type": "stream",
     "text": [
      "\"My name ia balaram rout.\" True\n",
      "\"i am from ODISHA\" False\n"
     ]
    }
   ],
   "source": [
    "#Check if given sentence is syntactically correct or not\n",
    "def check_sentence(string): \n",
    "   \n",
    "    length = len(string)\n",
    "    \n",
    "    if string[0] < 'A' or string[0] > 'Z': \n",
    "        return False \n",
    "    \n",
    "    if string[length-1] != '.': \n",
    "        return False\n",
    "    \n",
    "    prev_state = 0\n",
    "    curr_state = 0\n",
    "    index = 1\n",
    "    \n",
    "    while (string[index]): \n",
    "        \n",
    "        if string[index] >= 'A' and string[index] <= 'Z': \n",
    "            curr_state == 0 \n",
    "        elif string[index] == ' ': \n",
    "            curr_state = 1\n",
    "   \n",
    "        elif string[index] >= 'a' and string[index] <= 'z': \n",
    "            curr_state = 2\n",
    "   \n",
    "        elif string[index] == '.': \n",
    "            curr_state = 3\n",
    "  \n",
    "        if prev_state == curr_state and curr_state != 2: \n",
    "            return False\n",
    "  \n",
    "        if prev_state == 2 and curr_state == 0: \n",
    "            return False\n",
    "        if curr_state == 3 and prev_state != 1: \n",
    "            return True\n",
    "  \n",
    "        index += 1\n",
    "  \n",
    "        prev_state = curr_state \n",
    "  \n",
    "    return False\n",
    "  \n",
    "string = [\"My name ia balaram rout.\",\"i am from ODISHA\"]\n",
    "string_size = len(string)\n",
    "    \n",
    "for i in range(string_size): \n",
    "    \n",
    "    if check_sentence(string[i]):\n",
    "        print (\"\\\"\" +  string[i] + \"\\\" True\")\n",
    "    else: \n",
    "        print (\"\\\"\" +  string[i] + \"\\\" False\")\n",
    "  \n",
    "  \n",
    "\n"
   ]
  },
  {
   "cell_type": "code",
   "execution_count": 22,
   "metadata": {},
   "outputs": [
    {
     "name": "stdout",
     "output_type": "stream",
     "text": [
      "True\n"
     ]
    }
   ],
   "source": [
    "# How do you check if a given String contains valid parentheses?\n",
    "\n",
    "def check_parentheses(string) :  \n",
    "  \n",
    "    s = [];  \n",
    " \n",
    "    for i in range(len(string)) : \n",
    "  \n",
    "        if (string[i] == '(' or \n",
    "            string[i] == '[' or string[i] == '{') : \n",
    "   \n",
    "            s.append(string[i]);  \n",
    "            continue;  \n",
    "    \n",
    "        if (len(s) == 0) : \n",
    "            return False;  \n",
    "  \n",
    "        if string[i] == ')' : \n",
    "                                                          \n",
    "            x = s.pop(); \n",
    "              \n",
    "            if (x == '{' or x == '[') : \n",
    "                return False;  \n",
    "  \n",
    "        elif string[i] == '}':  \n",
    "  \n",
    "            x = s.pop(); \n",
    "              \n",
    "            if (x == '(' or x == '[') : \n",
    "                return False;  \n",
    "          \n",
    "        elif x == ']':  \n",
    "   \n",
    "            x = s.pop(); \n",
    "              \n",
    "            if (x =='(' or x == '{') : \n",
    "                return False;  \n",
    "   \n",
    "    if len(s) : \n",
    "        return True\n",
    "    else : \n",
    "        return False\n",
    "  \n",
    "string = \"{()}[]\";  \n",
    "  \n",
    "if (check_parentheses(string)): \n",
    "    print(\"True\");  \n",
    "else : \n",
    "    print(\"False\"); \n"
   ]
  },
  {
   "cell_type": "code",
   "execution_count": 18,
   "metadata": {},
   "outputs": [],
   "source": [
    "#Given a dictionary that associates the names of states with a list of the names of cities that appear in it,\n",
    "#write a program that creates a new dictionary that associates the name of a city with the list of states that it appears in.\n",
    "\n"
   ]
  },
  {
   "cell_type": "code",
   "execution_count": 19,
   "metadata": {},
   "outputs": [],
   "source": [
    "#.In the pre-smartphone era,each number key is assigned a subset of the alphabet {a,b,…,z}.\n"
   ]
  },
  {
   "cell_type": "code",
   "execution_count": 20,
   "metadata": {},
   "outputs": [],
   "source": [
    "#Given a dict of tickets(\"to\":\"from\")\n"
   ]
  },
  {
   "cell_type": "code",
   "execution_count": 21,
   "metadata": {},
   "outputs": [],
   "source": [
    "#.Write a program utility that counts the number of lines of actual python code in a. For the purpose of this exercise,\n",
    "#a line is counted if it contains something other than whitespace or text in a comment.\n"
   ]
  },
  {
   "cell_type": "code",
   "execution_count": 43,
   "metadata": {},
   "outputs": [
    {
     "name": "stdout",
     "output_type": "stream",
     "text": [
      "strong password\n"
     ]
    },
    {
     "data": {
      "text/plain": [
       "True"
      ]
     },
     "execution_count": 43,
     "metadata": {},
     "output_type": "execute_result"
    }
   ],
   "source": [
    "#Write a program to check the strength of a supplied password\n",
    "import re\n",
    "\n",
    "def check_password_strength(password):\n",
    "    \n",
    "    Special_sym=['$','@','#','&','!']\n",
    "    return_val=True\n",
    "\n",
    "    if len(password) < 8:\n",
    "        print(\"password must be atleast 8 character\")\n",
    "        return_val=False\n",
    "        \n",
    "    elif re.search('[0-9]',password) is None:\n",
    "        print(\"password must have one number\")\n",
    "        return_val=False\n",
    "        \n",
    "    elif re.search('[A-Z]',password) is None: \n",
    "        print(\"password must have a capital letter\")\n",
    "        return_val=False\n",
    "        \n",
    "    elif not any(char in Special_sym for char in password):\n",
    "        print('the password should have at least one of the symbols !,@,#,$,&')\n",
    "        return_val=False\n",
    "\n",
    "    elif return_val:\n",
    "        print('strong password')\n",
    "        \n",
    "    return return_val\n",
    "password = \"7978990362aA@\"\n",
    "check_password_strength(password)"
   ]
  }
 ],
 "metadata": {
  "kernelspec": {
   "display_name": "Python 3",
   "language": "python",
   "name": "python3"
  },
  "language_info": {
   "codemirror_mode": {
    "name": "ipython",
    "version": 3
   },
   "file_extension": ".py",
   "mimetype": "text/x-python",
   "name": "python",
   "nbconvert_exporter": "python",
   "pygments_lexer": "ipython3",
   "version": "3.7.3"
  }
 },
 "nbformat": 4,
 "nbformat_minor": 2
}
